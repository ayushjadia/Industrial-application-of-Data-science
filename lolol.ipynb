{
 "cells": [
  {
   "cell_type": "code",
   "execution_count": 34,
   "metadata": {},
   "outputs": [],
   "source": [
    "import pandas as pd\n",
    "import numpy as np\n",
    "import matplotlib.pyplot as plt\n",
    "import seaborn as sns"
   ]
  },
  {
   "cell_type": "code",
   "execution_count": 35,
   "metadata": {},
   "outputs": [],
   "source": [
    "new_df= pd.read_csv(r\"df_clean_after_removing_outliers.csv\")"
   ]
  },
  {
   "cell_type": "code",
   "execution_count": 36,
   "metadata": {},
   "outputs": [
    {
     "name": "stdout",
     "output_type": "stream",
     "text": [
      "       c2          c3          c4        c5        c6        c7         c8  \\\n",
      "0     2.0  182.772783  171.150782  0.707847  1.227071  2.264965  20.953158   \n",
      "1     2.0  182.772783  171.150782  0.741476  0.856963  2.261662  20.953158   \n",
      "2     2.0  182.772783  171.150782  0.688021  0.770062  2.173756  20.953158   \n",
      "3     2.0  177.349650  171.150782  0.671435  0.751135  2.207481  20.953158   \n",
      "4     2.0  177.011437  168.536361  0.675604  0.727959  2.222451  20.953158   \n",
      "...   ...         ...         ...       ...       ...       ...        ...   \n",
      "1020  2.0  169.189539  168.889912  0.570835  1.481834  2.307597  20.054774   \n",
      "1021  2.0  169.190103  168.885628  0.570346  1.484023  2.307171  20.053086   \n",
      "1022  2.0  169.193156  168.883838  0.569923  1.486473  2.306754  20.051325   \n",
      "1023  2.0  169.196588  168.882374  0.569688  1.488948  2.306329  20.049598   \n",
      "1024  2.0  169.200482  168.881392  0.569248  1.491385  2.305905  20.047938   \n",
      "\n",
      "            c9       c10        c11  ...       c231       c232       c233  \\\n",
      "0     7.561194  0.719497  58.855186  ...  27.211634  27.100533  25.820189   \n",
      "1     7.750373  0.708064  58.855186  ...  27.211634  27.100533  25.820189   \n",
      "2     7.229382  0.713921  58.855186  ...  27.211634  27.100533  25.820189   \n",
      "3     7.233273  0.693310  58.855186  ...  27.211634  27.100533  25.820189   \n",
      "4     7.241482  0.692056  57.978796  ...  27.211634  27.100533  25.820189   \n",
      "...        ...       ...        ...  ...        ...        ...        ...   \n",
      "1020  8.476108  0.638304  58.545909  ...  27.201199  27.087231  25.822664   \n",
      "1021  8.477674  0.638174  58.544031  ...  27.201829  27.087999  25.823534   \n",
      "1022  8.479871  0.638044  58.541902  ...  27.202457  27.088781  25.824407   \n",
      "1023  8.482065  0.637910  58.539298  ...  27.203164  27.089631  25.825348   \n",
      "1024  8.484280  0.637785  58.536504  ...  27.203901  27.090477  25.826306   \n",
      "\n",
      "           c234      c235       c236       c237       c238       c239  \\\n",
      "0     25.178829  0.670200  68.098119  66.492249  40.643350  42.811412   \n",
      "1     25.178829  0.670997  68.050810  66.510455  40.643350  42.880681   \n",
      "2     25.178829  0.671728  67.776882  66.312616  40.643350  42.931247   \n",
      "3     25.178829  0.671147  67.947244  65.890539  39.767880  43.026031   \n",
      "4     25.178829  0.670684  68.049756  65.907074  40.045672  43.166002   \n",
      "...         ...       ...        ...        ...        ...        ...   \n",
      "1020  25.181904  0.685587  72.595877  66.912993  39.639070  41.501254   \n",
      "1021  25.182226  0.685604  72.588798  66.914780  39.635475  41.500582   \n",
      "1022  25.182495  0.685620  72.581641  66.916074  39.630815  41.500543   \n",
      "1023  25.182793  0.685633  72.574434  66.917131  39.626169  41.500731   \n",
      "1024  25.183078  0.685649  72.567191  66.918268  39.622388  41.501727   \n",
      "\n",
      "          c241  \n",
      "0     2.184083  \n",
      "1     2.217280  \n",
      "2     2.152788  \n",
      "3     2.127381  \n",
      "4     2.117146  \n",
      "...        ...  \n",
      "1020  2.191312  \n",
      "1021  2.190924  \n",
      "1022  2.190575  \n",
      "1023  2.190256  \n",
      "1024  2.189949  \n",
      "\n",
      "[1025 rows x 230 columns]\n"
     ]
    }
   ],
   "source": [
    "import pandas as pd\n",
    "import numpy as np\n",
    "\n",
    "# Assuming new_df is your DataFrame\n",
    "\n",
    "# Function to calculate weighted mean\n",
    "def weighted_mean(series):\n",
    "    weights = np.arange(1, len(series) + 1)\n",
    "    return np.sum(series * weights) / np.sum(weights)\n",
    "\n",
    "# Window size for rolling mean\n",
    "window_size = \n",
    "\n",
    "if 'c1' in new_df.columns:\n",
    "    new_df.drop('c1', axis=1, inplace=True)\n",
    "\n",
    "for column in new_df.columns:\n",
    "    if column != 'c51' and column != 'c1':  # Assuming 'c1' was meant to be excluded\n",
    "        new_df[column] = new_df[column].rolling(window=window_size, min_periods=1).apply(weighted_mean, raw=True)\n",
    "\n",
    "# Display the modified DataFrame\n",
    "print(new_df)\n",
    "\n"
   ]
  },
  {
   "cell_type": "code",
   "execution_count": 37,
   "metadata": {},
   "outputs": [
    {
     "name": "stdout",
     "output_type": "stream",
     "text": [
      "Training R^2 score: 0.7935\n",
      "Testing R^2 score: 0.7676\n"
     ]
    }
   ],
   "source": [
    "X = new_df[['c26', 'c27', 'c28', 'c29', 'c30', 'c31', 'c33', 'c39', 'c139', 'c142', 'c143', 'c155', 'c156', 'c157', 'c158', 'c160', 'c161', 'c162', 'c163']]\n",
    "y = new_df['c51']\n",
    "from sklearn.model_selection import train_test_split\n",
    "X_train, X_test, y_train, y_test = train_test_split(X, y, test_size=0.2, random_state=42)\n",
    "\n",
    "from sklearn.linear_model import LinearRegression\n",
    "model = LinearRegression()\n",
    "model.fit(X_train, y_train)\n",
    "\n",
    "train_score = model.score(X_train, y_train)\n",
    "test_score = model.score(X_test, y_test)\n",
    "\n",
    "print(f'Training R^2 score: {train_score:.4f}')\n",
    "print(f'Testing R^2 score: {test_score:.4f}')\n",
    "\n",
    "import statsmodels.api as sm\n",
    "\n",
    "X_with_const = sm.add_constant(X)\n",
    "\n",
    "\n",
    "model = sm.OLS(y, X_with_const)\n",
    "results = model.fit()"
   ]
  }
 ],
 "metadata": {
  "kernelspec": {
   "display_name": "Python 3",
   "language": "python",
   "name": "python3"
  },
  "language_info": {
   "codemirror_mode": {
    "name": "ipython",
    "version": 3
   },
   "file_extension": ".py",
   "mimetype": "text/x-python",
   "name": "python",
   "nbconvert_exporter": "python",
   "pygments_lexer": "ipython3",
   "version": "3.11.3"
  }
 },
 "nbformat": 4,
 "nbformat_minor": 2
}
