{
 "cells": [
  {
   "cell_type": "code",
   "execution_count": null,
   "metadata": {},
   "outputs": [],
   "source": [
    "import pandas as pd\n",
    "import numpy as np\n",
    "import matplotlib.pyplot as plt\n",
    "import seaborn as sns"
   ]
  },
  {
   "cell_type": "code",
   "execution_count": null,
   "metadata": {},
   "outputs": [],
   "source": [
    "new_df= pd.read_csv(r\"df_clean_after_removing_outliers.csv\")"
   ]
  },
  {
   "cell_type": "code",
   "execution_count": null,
   "metadata": {},
   "outputs": [],
   "source": [
    "plt.plot(new_df['c161'])"
   ]
  },
  {
   "cell_type": "code",
   "execution_count": null,
   "metadata": {},
   "outputs": [],
   "source": [
    "# Calculate the IQR for 'c161' column\n",
    "q1 = new_df['c161'].quantile(0.25)\n",
    "q3 = new_df['c161'].quantile(0.75)\n",
    "iqr = q3 - q1\n",
    "\n",
    "# Calculate lower and upper bounds for outliers\n",
    "lower_bound = q1 -  1.0* iqr\n",
    "upper_bound = q3 + 1.0* iqr\n",
    "\n",
    "# Replace outliers with the mean of the remaining data in 'c161' column\n",
    "new_df['c161'] = new_df['c161'].apply(lambda x: new_df['c161'][(new_df['c161'] >= lower_bound) & (new_df['c161'] <= upper_bound)].mean() if (x < lower_bound or x > upper_bound) else x)\n"
   ]
  },
  {
   "cell_type": "code",
   "execution_count": null,
   "metadata": {},
   "outputs": [],
   "source": [
    "# # Define the column names you want to work with\n",
    "# # Get the column names of your cleaned DataFrame\n",
    "# column_names = df_clean.columns.tolist()\n",
    "\n",
    "# # Exclude 'c1' from the list of column names if it's present\n",
    "# if 'c1' in column_names:\n",
    "#     column_names.remove('c1')\n",
    "\n",
    "\n",
    "\n",
    "# Create an empty DataFrame to store the results\n",
    "# new_df = pd.DataFrame()\n",
    "\n",
    "# Define the step size (50 data points at a time)\n",
    "step_size = 25\n",
    "\n",
    "# ... (previous code remains unchanged)\n",
    "\n",
    "\n",
    "new_column_data = []  \n",
    "for i in range(0, len(new_df['c161']), step_size):\n",
    "    # Get the current 50 data points\n",
    "    data_subset = new_df['c161'].iloc[i:i+step_size].copy()\n",
    "        \n",
    "    # Calculate the IQR for the current subset\n",
    "    q1 = np.percentile(data_subset, 25)\n",
    "    q3 = np.percentile(data_subset, 75)\n",
    "    iqr = q3 - q1\n",
    "        \n",
    "    # Calculate the lower and upper bounds for outliers\n",
    "    lower_bound = q1 - 0.5 * iqr\n",
    "    upper_bound = q3 + 0.5 * iqr\n",
    "    # Calculate mean for non-outliers within the subset\n",
    "    subset_mean = data_subset[(data_subset >= lower_bound) & (data_subset <= upper_bound)].mean()\n",
    "    # Replace outliers with the mean of the 50 data points\n",
    "    data_subset[data_subset < lower_bound] = subset_mean\n",
    "    data_subset[data_subset > upper_bound] = subset_mean\n",
    "    \n",
    "    # Explicitly cast subset_mean to int before appending to the new_column_data list\n",
    "    subset_mean = int(subset_mean)\n",
    "        \n",
    "    # Append the modified data to the new_column_data list\n",
    "    new_column_data.extend(data_subset)\n",
    "    \n",
    "# # Convert the new_column_data list to a Series\n",
    "# new_column_series = pd.Series(new_column_data, name=column_name)\n",
    "new_df['c161_1'] = new_column_data\n",
    "    \n",
    "# # Concatenate the new column to the new_df DataFrame\n",
    "# new_df = pd.concat([new_df, new_column_series], axis=1)\n",
    "\n",
    "# Now, new_df contains your data with outliers replaced by the mean within each 50-point segment"
   ]
  },
  {
   "cell_type": "code",
   "execution_count": null,
   "metadata": {},
   "outputs": [],
   "source": [
    "plt.plot(new_df['c161'] )\n",
    "plt.plot(new_df['c161_1'],linestyle='--')"
   ]
  },
  {
   "cell_type": "markdown",
   "metadata": {},
   "source": [
    "# c158\n",
    "\n"
   ]
  },
  {
   "cell_type": "code",
   "execution_count": null,
   "metadata": {},
   "outputs": [],
   "source": [
    "plt.plot(normalized_df['c158'])"
   ]
  },
  {
   "cell_type": "code",
   "execution_count": null,
   "metadata": {},
   "outputs": [],
   "source": [
    "# # Define the column names you want to work with\n",
    "# # Get the column names of your cleaned DataFrame\n",
    "# column_names = df_clean.columns.tolist()\n",
    "\n",
    "# # Exclude 'c1' from the list of column names if it's present\n",
    "# if 'c1' in column_names:\n",
    "#     column_names.remove('c1')\n",
    "\n",
    "\n",
    "\n",
    "# Create an empty DataFrame to store the results\n",
    "# new_df = pd.DataFrame()\n",
    "\n",
    "# Define the step size (50 data points at a time)\n",
    "step_size = 50\n",
    "\n",
    "# ... (previous code remains unchanged)\n",
    "\n",
    "\n",
    "new_column_data = []  \n",
    "for i in range(0, len(normalized_df['c158']), step_size):\n",
    "    # Get the current 50 data points\n",
    "    data_subset = normalized_df['c158'].iloc[i:i+step_size].copy()\n",
    "        \n",
    "    # Calculate the IQR for the current subset\n",
    "    q1 = np.percentile(data_subset, 25)\n",
    "    q3 = np.percentile(data_subset, 75)\n",
    "    iqr = q3 - q1\n",
    "        \n",
    "    # Calculate the lower and upper bounds for outliers\n",
    "    lower_bound = q1 - 0.5 * iqr\n",
    "    upper_bound = q3 + 0.5 * iqr\n",
    "    # Calculate mean for non-outliers within the subset\n",
    "    subset_mean = data_subset[(data_subset >= lower_bound) & (data_subset <= upper_bound)].mean()\n",
    "    # Replace outliers with the mean of the 50 data points\n",
    "    data_subset[data_subset < lower_bound] = subset_mean\n",
    "    data_subset[data_subset > upper_bound] = subset_mean\n",
    "    \n",
    "    # Explicitly cast subset_mean to int before appending to the new_column_data list\n",
    "    subset_mean = int(subset_mean)\n",
    "        \n",
    "    # Append the modified data to the new_column_data list\n",
    "    new_column_data.extend(data_subset)\n",
    "    \n",
    "# # Convert the new_column_data list to a Series\n",
    "# new_column_series = pd.Series(new_column_data, name=column_name)\n",
    "normalized_df['c158_1'] = new_column_data\n",
    "    \n",
    "# # Concatenate the new column to the new_df DataFrame\n",
    "# new_df = pd.concat([new_df, new_column_series], axis=1)\n",
    "\n",
    "# Now, new_df contains your data with outliers replaced by the mean within each 50-point segment\n"
   ]
  },
  {
   "cell_type": "code",
   "execution_count": null,
   "metadata": {},
   "outputs": [],
   "source": [
    "plt.plot(normalized_df['c158_1'])"
   ]
  },
  {
   "cell_type": "code",
   "execution_count": null,
   "metadata": {},
   "outputs": [],
   "source": [
    "# Calculate the IQR for 'c161' column\n",
    "q1 = normalized_df['c158_1'].quantile(0.25)\n",
    "q3 = normalized_df['c158_1'].quantile(0.75)\n",
    "iqr = q3 - q1\n",
    "\n",
    "# Calculate lower and upper bounds for outliers\n",
    "lower_bound = q1 -  1.4* iqr\n",
    "upper_bound = q3 + 1.4* iqr\n",
    "\n",
    "# Replace outliers with the mean of the remaining data in 'c161' column\n",
    "normalized_df['c158_1'] = normalized_df['c158_1'].apply(lambda x: normalized_df['c158_1'][(normalized_df['c158_1'] >= lower_bound) & (normalized_df['c158_1'] <= upper_bound)].mean() if (x < lower_bound or x > upper_bound) else x)\n"
   ]
  },
  {
   "cell_type": "code",
   "execution_count": null,
   "metadata": {},
   "outputs": [],
   "source": [
    "plt.plot(normalized_df['c158_1'])"
   ]
  },
  {
   "cell_type": "code",
   "execution_count": null,
   "metadata": {},
   "outputs": [],
   "source": [
    "column='c158_1'\n",
    "plt.figure(figsize=(10, 6))\n",
    "sns.histplot(normalized_df[column], bins=80, kde=True)\n",
    "plt.title(f'Histogram of {column}')\n",
    "plt.xlabel('c51 values')\n",
    "plt.ylabel('Frequency')\n",
    "plt.show()"
   ]
  },
  {
   "cell_type": "code",
   "execution_count": null,
   "metadata": {},
   "outputs": [],
   "source": [
    "for i in range(100):\n",
    "    if(normalized_df['c158_1'][i]<0.7):\n",
    "        normalized_df['c158_1'][i]=0.7\n",
    "    "
   ]
  }
 ],
 "metadata": {
  "language_info": {
   "name": "python"
  }
 },
 "nbformat": 4,
 "nbformat_minor": 2
}
